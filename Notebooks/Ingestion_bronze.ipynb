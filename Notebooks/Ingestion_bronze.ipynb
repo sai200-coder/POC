{
 "cells": [
  {
   "cell_type": "markdown",
   "metadata": {
    "application/vnd.databricks.v1+cell": {
     "cellMetadata": {},
     "inputWidgets": {},
     "nuid": "7c499647-0fb1-494a-a131-d575570ddaf2",
     "showTitle": false,
     "tableResultSettingsMap": {},
     "title": ""
    }
   },
   "source": [
    "# **Creating Schema in **catalog****"
   ]
  },
  {
   "cell_type": "code",
   "execution_count": 0,
   "metadata": {
    "application/vnd.databricks.v1+cell": {
     "cellMetadata": {
      "byteLimit": 2048000,
      "implicitDf": true,
      "rowLimit": 10000
     },
     "inputWidgets": {},
     "nuid": "19d8ee6c-af0f-4a43-9bdf-75e918ba8689",
     "showTitle": false,
     "tableResultSettingsMap": {},
     "title": ""
    }
   },
   "outputs": [],
   "source": [
    "%sql\n",
    "-- creating schema in catalog\n",
    "create schema if not exists kusha_solutions.sai"
   ]
  },
  {
   "cell_type": "code",
   "execution_count": 0,
   "metadata": {
    "application/vnd.databricks.v1+cell": {
     "cellMetadata": {
      "byteLimit": 2048000,
      "implicitDf": true,
      "rowLimit": 10000
     },
     "inputWidgets": {},
     "nuid": "199ce8db-ec48-4a61-be91-2a9e48f44deb",
     "showTitle": false,
     "tableResultSettingsMap": {},
     "title": ""
    }
   },
   "outputs": [],
   "source": [
    "%sql\n",
    "-- checking schema\n",
    "describe schema kusha_solutions.sai;\n",
    "show volumes in kusha_solutions.sai;\n",
    "show tables in kusha_solutions.sai;"
   ]
  },
  {
   "cell_type": "code",
   "execution_count": 0,
   "metadata": {
    "application/vnd.databricks.v1+cell": {
     "cellMetadata": {
      "byteLimit": 2048000,
      "implicitDf": true,
      "rowLimit": 10000
     },
     "inputWidgets": {},
     "nuid": "b6abd2ea-686f-4cad-b4b3-df8dc0137627",
     "showTitle": false,
     "tableResultSettingsMap": {},
     "title": ""
    }
   },
   "outputs": [],
   "source": [
    "%sql\n",
    "-- creating volume\n",
    "create volume if not exists kusha_solutions.sai.volume"
   ]
  },
  {
   "cell_type": "code",
   "execution_count": 0,
   "metadata": {
    "application/vnd.databricks.v1+cell": {
     "cellMetadata": {
      "byteLimit": 2048000,
      "rowLimit": 10000
     },
     "inputWidgets": {},
     "nuid": "daa4b777-8d6f-47ab-b4f1-d5060cba1fd9",
     "showTitle": false,
     "tableResultSettingsMap": {},
     "title": ""
    }
   },
   "outputs": [],
   "source": [
    "# copy the files in viresh to the volume in catalog\n",
    "\n",
    "source_path =\"/Volumes/kusha_solutions/viresh/dlt_poc\"\n",
    "target_path =\"/Volumes/kusha_solutions/sai/volume\"\n",
    "dbutils.fs.cp(source_path,target_path, True)"
   ]
  },
  {
   "cell_type": "code",
   "execution_count": 0,
   "metadata": {
    "application/vnd.databricks.v1+cell": {
     "cellMetadata": {
      "byteLimit": 2048000,
      "rowLimit": 10000
     },
     "inputWidgets": {},
     "nuid": "80174568-0326-405f-a068-abf2d58d5621",
     "showTitle": false,
     "tableResultSettingsMap": {},
     "title": ""
    }
   },
   "outputs": [],
   "source": [
    "# display the files in the volume\n",
    "display(dbutils.fs.ls(\"/Volumes/kusha_solutions/sai/volume\"))"
   ]
  },
  {
   "cell_type": "markdown",
   "metadata": {
    "application/vnd.databricks.v1+cell": {
     "cellMetadata": {},
     "inputWidgets": {},
     "nuid": "3f6dbe2c-41f1-4527-a4a1-7cb51187add2",
     "showTitle": false,
     "tableResultSettingsMap": {},
     "title": ""
    }
   },
   "source": [
    "# **Reading files**"
   ]
  },
  {
   "cell_type": "code",
   "execution_count": 0,
   "metadata": {
    "application/vnd.databricks.v1+cell": {
     "cellMetadata": {
      "byteLimit": 2048000,
      "rowLimit": 10000
     },
     "inputWidgets": {},
     "nuid": "37084216-f9cf-46ad-a470-e93389237fd1",
     "showTitle": false,
     "tableResultSettingsMap": {},
     "title": ""
    }
   },
   "outputs": [],
   "source": [
    "from pyspark.sql.functions import *\n",
    "\n",
    "# ✅ Step 1: Read JSON files from DIVISIONS folder with multiline support\n",
    "df_divisionsraw = spark.read.option(\"multiline\", \"true\").json(\"/Volumes/kusha_solutions/sai/volume/DIVISIONS/*\")\n",
    "\n",
    "# ✅ Step 2: Print the schema to understand the structure of the JSON\n",
    "df_divisionsraw.printSchema()\n",
    "\n",
    "# ✅ Step 3: Add ingestion timestamp and source file path metadata\n",
    "df_divisionsraw_meta = df_divisionsraw.withColumn(\"divisions_ingestion_timestamp\", current_timestamp())\\\n",
    "                                       .withColumn(\"source_file\", col(\"_metadata.file_path\"))               # Track source file\n",
    "\n",
    "# ✅ Step 4: Display the enriched DataFrame\n",
    "display(df_divisionsraw_meta)\n"
   ]
  },
  {
   "cell_type": "code",
   "execution_count": 0,
   "metadata": {
    "application/vnd.databricks.v1+cell": {
     "cellMetadata": {
      "byteLimit": 2048000,
      "rowLimit": 10000
     },
     "inputWidgets": {},
     "nuid": "a4b672f9-165e-4d37-ab6c-6b05e6a33fce",
     "showTitle": false,
     "tableResultSettingsMap": {},
     "title": ""
    }
   },
   "outputs": [],
   "source": [
    "from pyspark.sql.types import *\n",
    "# Define the schema for the JSON file\n",
    "schema = StructType([\n",
    "    StructField(\"organizationId\", StringType(), True),\n",
    "    StructField(\"conversationId\", StringType(), True),\n",
    "    StructField(\"startTime\", StringType(), True),\n",
    "    StructField(\"endTime\", StringType(), True),\n",
    "    StructField(\"divisionIds\", ArrayType(StringType()), True),\n",
    "    StructField(\"participantData\", ArrayType(\n",
    "        StructType([\n",
    "            StructField(\"participantPurpose\", StringType(), True),\n",
    "            StructField(\"participantAttributes\", StructType([\n",
    "                StructField(\"DDI\", StringType(), True),\n",
    "                StructField(\"DNIS\", StringType(), True),\n",
    "                StructField(\"Skill\", StringType(), True),\n",
    "                StructField(\"Whisper\", StringType(), True),\n",
    "                StructField(\"custCLI\", StringType(), True),\n",
    "                StructField(\"DNISName\", StringType(), True),\n",
    "                StructField(\"Location\", StringType(), True),\n",
    "                StructField(\"Priority\", StringType(), True),\n",
    "                StructField(\"TIQCheck\", StringType(), True),\n",
    "                StructField(\"TIQValue\", StringType(), True),\n",
    "                StructField(\"scriptId\", StringType(), True),\n",
    "                StructField(\"DNIS_Name\", StringType(), True),\n",
    "                StructField(\"DNIS_code\", StringType(), True),\n",
    "                StructField(\"CountryCode\", StringType(), True),\n",
    "                StructField(\"HoldMusic\", StringType(), True),\n",
    "                StructField(\"ComfortMsg1\", StringType(), True),\n",
    "                StructField(\"CustomerANI\", StringType(), True),\n",
    "                StructField(\"CBEWTSetting\", StringType(), True),\n",
    "                StructField(\"NoSurveyOptIn\", StringType(), True),\n",
    "                StructField(\"ScheduleGroup\", StringType(), True),\n",
    "                StructField(\"ScreenPopName\", StringType(), True),\n",
    "                StructField(\"Closed_Message\", StringType(), True),\n",
    "                StructField(\"FoundQueueName\", StringType(), True),\n",
    "                StructField(\"FoundSkillName\", StringType(), True),\n",
    "                StructField(\"SMSLandlineMxg\", StringType(), True),\n",
    "                StructField(\"SMSNoMobMsgIVR\", StringType(), True),\n",
    "                StructField(\"SMSOptInPrompt\", StringType(), True),\n",
    "                StructField(\"Business_Status\", StringType(), True),\n",
    "                StructField(\"SMSMsgMobileIVR\", StringType(), True),\n",
    "                StructField(\"Survey_Workflow\", StringType(), True),\n",
    "                StructField(\"Welcome_Message\", StringType(), True),\n",
    "                StructField(\"Callback_Enabled\", StringType(), True),\n",
    "                StructField(\"LandlineNoInptHD\", StringType(), True),\n",
    "                StructField(\"NT_Login_Matched\", StringType(), True),\n",
    "                StructField(\"NoMobOffPromptSD\", StringType(), True),\n",
    "                StructField(\"Emergency_Message\", StringType(), True),\n",
    "                StructField(\"SMSOOHMobileAudio\", StringType(), True),\n",
    "                StructField(\"SMSDeflectionOffer\", StringType(), True),\n",
    "                StructField(\"SMSOOHNoMobileAudio\", StringType(), True),\n",
    "                StructField(\"External_Xfer_Number\", StringType(), True),\n",
    "                StructField(\"Callback_Sunday_End_Time\", StringType(), True),\n",
    "                StructField(\"Callback_Weekday_End_Time\", StringType(), True),\n",
    "                StructField(\"WhatsDeflectionSuccessMsg\", StringType(), True),\n",
    "                StructField(\"Callback_Saturday_End_Time\", StringType(), True),\n",
    "                StructField(\"Callback_Sunday_Start_Time\", StringType(), True),\n",
    "                StructField(\"Callback_Weekday_Start_Time\", StringType(), True),\n",
    "                StructField(\"Log_SurveyWorkflowStartTime\", StringType(), True),\n",
    "                StructField(\"Callback_Saturday_Start_Time\", StringType(), True),\n",
    "                StructField(\"LegId\", StringType(), True),\n",
    "                StructField(\"ivr_Skills\", StringType(), True),\n",
    "                StructField(\"ivr_Priority\", StringType(), True),\n",
    "                StructField(\"Log_LegWorkflowStart\", StringType(), True),\n",
    "                StructField(\"Log_ConversationCheck\", StringType(), True),\n",
    "                StructField(\"Log_LegWorkflowComplete\", StringType(), True),\n",
    "                StructField(\"NTLogin\", StringType(), True),\n",
    "                StructField(\"Customer_Id\", StringType(), True),\n",
    "                StructField(\"Agent_NT_Login\", StringType(), True),\n",
    "                StructField(\"Workstation_Id\", StringType(), True)\n",
    "            ]), True),\n",
    "            StructField(\"participantId\", StringType(), True),\n",
    "            StructField(\"sessionIds\", ArrayType(StringType()), True)\n",
    "        ])\n",
    "    ), True),\n",
    "    StructField(\"_type\", StringType(), True)\n",
    "])\n",
    "# Step 2: Read JSON files from PARTICIPANT_ATTRIBUTES folder with multiline support\n",
    "df_participants = spark.read.schema(schema).option(\"multiline\",\"true\").json(\"/Volumes/kusha_solutions/sai/volume/PARTICIPANT_ATTRIBUTES/*\")\n",
    "#Step 3: Print the schema to understand the structure of the JSON\n",
    "df_participants.printSchema()\n",
    "#Step 4: Add ingestion timestamp and source file name to the dataframe\n",
    "df_participants_meta= df_participants.withColumn(\"participants_ingestion_timestamp\", current_timestamp()) \\\n",
    "                                 .withColumn(\"source_file\", col(\"_metadata.file_path\"))\n",
    "#Step 5: Display the dataframe\n",
    "display(df_participants_meta)"
   ]
  },
  {
   "cell_type": "code",
   "execution_count": 0,
   "metadata": {
    "application/vnd.databricks.v1+cell": {
     "cellMetadata": {
      "byteLimit": 2048000,
      "rowLimit": 10000
     },
     "inputWidgets": {},
     "nuid": "1129adfb-e5b7-4c45-8428-2e60ee9ced21",
     "showTitle": false,
     "tableResultSettingsMap": {
      "0": {
       "dataGridStateBlob": "{\"version\":1,\"tableState\":{\"columnPinning\":{\"left\":[\"#row_number#\"],\"right\":[]},\"columnSizing\":{\"originatingDirection\":183},\"columnVisibility\":{}},\"settings\":{\"columns\":{}},\"syncTimestamp\":1753247573398}",
       "filterBlob": null,
       "queryPlanFiltersBlob": null,
       "tableResultIndex": 0
      }
     },
     "title": ""
    }
   },
   "outputs": [],
   "source": [
    "\n",
    "# Step 1: Define schema for the JSON file\n",
    "schema2 = StructType([\n",
    "    StructField(\"conversationEnd\", StringType(), True),\n",
    "    StructField(\"conversationId\", StringType(), True),\n",
    "    StructField(\"conversationStart\", StringType(), True),\n",
    "    StructField(\"divisionIds\", ArrayType(StringType()), True),\n",
    "    StructField(\"mediaStatsMinConversationMos\", DoubleType(), True),\n",
    "    StructField(\"mediaStatsMinConversationRFactor\", DoubleType(), True),\n",
    "    StructField(\"originatingDirection\", StringType(), True),\n",
    "    StructField(\"participants\", ArrayType(\n",
    "        StructType([\n",
    "            StructField(\"participantId\", StringType(), True),\n",
    "            StructField(\"purpose\", StringType(), True),\n",
    "            StructField(\"userId\", StringType(), True),\n",
    "            StructField(\"externalContactId\", StringType(), True),\n",
    "            StructField(\"participantName\", StringType(), True),\n",
    "            StructField(\"sessions\", ArrayType(\n",
    "                StructType([\n",
    "                    StructField(\"ani\", StringType(), True),\n",
    "                    StructField(\"direction\", StringType(), True),\n",
    "                    StructField(\"dnis\", StringType(), True),\n",
    "                    StructField(\"DDI\", StringType(), True),\n",
    "                    StructField(\"edgeId\", StringType(), True),\n",
    "                    StructField(\"mediaType\", StringType(), True),\n",
    "                    StructField(\"peerId\", StringType(), True),\n",
    "                    StructField(\"protocolCallId\", StringType(), True),\n",
    "                    StructField(\"provider\", StringType(), True),\n",
    "                    StructField(\"remote\", StringType(), True),\n",
    "                    StructField(\"remoteNameDisplayable\", StringType(), True),\n",
    "                    StructField(\"sessionDnis\", StringType(), True),\n",
    "                    StructField(\"sessionId\", StringType(), True),\n",
    "                    StructField(\"destinationAddresses\", ArrayType(StringType()), True),  # <- Added line\n",
    "                    StructField(\"mediaEndpointStats\", ArrayType(\n",
    "                        StructType([\n",
    "                            StructField(\"codecs\", ArrayType(StringType()), True),\n",
    "                            StructField(\"eventTime\", StringType(), True),\n",
    "                            StructField(\"maxLatencyMs\", LongType(), True),\n",
    "                            StructField(\"minMos\", DoubleType(), True),\n",
    "                            StructField(\"minRFactor\", DoubleType(), True),\n",
    "                            StructField(\"receivedPackets\", LongType(), True)\n",
    "                        ])\n",
    "                    ), True),\n",
    "                    StructField(\"metrics\", ArrayType(\n",
    "                        StructType([\n",
    "                            StructField(\"emitDate\", StringType(), True),\n",
    "                            StructField(\"name\", StringType(), True),\n",
    "                            StructField(\"value\", LongType(), True)\n",
    "                        ])\n",
    "                    ), True),\n",
    "                    StructField(\"segments\", ArrayType(\n",
    "                        StructType([\n",
    "                            StructField(\"conference\", BooleanType(), True),\n",
    "                            StructField(\"queueId\", StringType(), True),\n",
    "                            StructField(\"segmentEnd\", StringType(), True),\n",
    "                            StructField(\"segmentStart\", StringType(), True),\n",
    "                            StructField(\"segmentType\", StringType(), True),\n",
    "                            StructField(\"disconnectType\", StringType(), True),\n",
    "                            StructField(\"wrapUpCode\", StringType(), True)\n",
    "                        ])\n",
    "                    ), True)\n",
    "                ])\n",
    "            ), True),\n",
    "            StructField(\"attributes\", StructType([\n",
    "                StructField(\"VDN\", StringType(), True),\n",
    "                StructField(\"Log_LegWorkflowStart\", StringType(), True),\n",
    "                StructField(\"NTLogin\", StringType(), True),\n",
    "                StructField(\"DNIS\", StringType(), True),\n",
    "                StructField(\"LegId\", StringType(), True)\n",
    "            ]), True)\n",
    "        ])\n",
    "    ), True)\n",
    "])\n",
    "#Step 2: Read JSON files from DIVISIONS folder with multiline support\n",
    "df_conversations = spark.read.schema(schema2).option(\"multiline\",\"true\").json(\"/Volumes/kusha_solutions/sai/volume/CONVERSATION_JOBS/*\")\n",
    "#Step 3: Print the schema to understand the structure of the JSON\n",
    "df_conversations.printSchema()\n",
    "#Step 4: Add ingestion timestamp and source file name to the dataframe\n",
    "df_conversations_meta = df_conversations.withColumn(\"Conversations_ingestion_timestamp\", current_timestamp()) \\\n",
    "                                 .withColumn(\"source_file\", col(\"_metadata.file_path\"))\n",
    "#Step 5: Display the dataframe\n",
    "display(df_conversations_meta)"
   ]
  },
  {
   "cell_type": "code",
   "execution_count": 0,
   "metadata": {
    "application/vnd.databricks.v1+cell": {
     "cellMetadata": {
      "byteLimit": 2048000,
      "rowLimit": 10000
     },
     "inputWidgets": {},
     "nuid": "190bb7d8-1e45-4bfe-9e80-c2b8c05dce8d",
     "showTitle": false,
     "tableResultSettingsMap": {},
     "title": ""
    }
   },
   "outputs": [],
   "source": [
    "# count the number of records in each dataframe\n",
    "counts = [\n",
    "    (\"df_conversations_meta\", df_conversations_meta.count()),\n",
    "    (\"df_participants_meta\", df_participants_meta.count()),\n",
    "    (\"df_divisionsraw_meta\", df_divisionsraw_meta.count())\n",
    "]\n",
    "print(counts)"
   ]
  },
  {
   "cell_type": "markdown",
   "metadata": {
    "application/vnd.databricks.v1+cell": {
     "cellMetadata": {
      "byteLimit": 2048000,
      "rowLimit": 10000
     },
     "inputWidgets": {},
     "nuid": "b89a9fd7-2f60-49ce-aec7-ada92e4a4469",
     "showTitle": false,
     "tableResultSettingsMap": {},
     "title": ""
    }
   },
   "source": [
    "# **Write bronze Tables**"
   ]
  },
  {
   "cell_type": "code",
   "execution_count": 0,
   "metadata": {
    "application/vnd.databricks.v1+cell": {
     "cellMetadata": {
      "byteLimit": 2048000,
      "rowLimit": 10000
     },
     "inputWidgets": {},
     "nuid": "ac631f81-62f2-4316-bd3a-c1306fa20db6",
     "showTitle": false,
     "tableResultSettingsMap": {},
     "title": ""
    }
   },
   "outputs": [],
   "source": [
    "# write the data to delta table\n",
    "df_conversations_meta.write.format(\"delta\").mode(\"overwrite\").saveAsTable(\"kusha_solutions.sai.CONVERSATION_JOBS_bronze\")"
   ]
  },
  {
   "cell_type": "code",
   "execution_count": 0,
   "metadata": {
    "application/vnd.databricks.v1+cell": {
     "cellMetadata": {
      "byteLimit": 2048000,
      "rowLimit": 10000
     },
     "inputWidgets": {},
     "nuid": "80f06b6b-73a7-4d74-b248-2121633475c2",
     "showTitle": false,
     "tableResultSettingsMap": {
      "0": {
       "dataGridStateBlob": "{\"version\":1,\"tableState\":{\"columnPinning\":{\"left\":[\"#row_number#\"],\"right\":[]},\"columnSizing\":{},\"columnVisibility\":{}},\"settings\":{\"columns\":{}},\"syncTimestamp\":1753093563750}",
       "filterBlob": null,
       "queryPlanFiltersBlob": null,
       "tableResultIndex": 0
      }
     },
     "title": ""
    }
   },
   "outputs": [],
   "source": [
    "# write the data to delta table\n",
    "df_participants_meta.write.format(\"delta\").mode(\"append\").saveAsTable(\"kusha_solutions.sai.PARTICIPANT_ATTRIBUTES_bronze\")"
   ]
  },
  {
   "cell_type": "code",
   "execution_count": 0,
   "metadata": {
    "application/vnd.databricks.v1+cell": {
     "cellMetadata": {
      "byteLimit": 2048000,
      "rowLimit": 10000
     },
     "inputWidgets": {},
     "nuid": "21fbda53-b784-4398-9c55-ff7405b8777b",
     "showTitle": false,
     "tableResultSettingsMap": {},
     "title": ""
    }
   },
   "outputs": [],
   "source": [
    "# write the data to delta table\n",
    "df_divisionsraw_meta.write.format(\"delta\").mode(\"append\").saveAsTable(\"kusha_solutions.sai.DIVISIONS_bronze\")"
   ]
  }
 ],
 "metadata": {
  "application/vnd.databricks.v1+notebook": {
   "computePreferences": null,
   "dashboards": [],
   "environmentMetadata": {
    "base_environment": "",
    "environment_version": "2"
   },
   "inputWidgetPreferences": null,
   "language": "python",
   "notebookMetadata": {
    "mostRecentlyExecutedCommandWithImplicitDF": {
     "commandId": 8605149205532505,
     "dataframes": [
      "_sqldf"
     ]
    },
    "pythonIndentUnit": 4
   },
   "notebookName": "Ingestion_bronze",
   "widgets": {}
  },
  "language_info": {
   "name": "python"
  }
 },
 "nbformat": 4,
 "nbformat_minor": 0
}
