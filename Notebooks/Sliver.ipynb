{
 "cells": [
  {
   "cell_type": "code",
   "execution_count": 0,
   "metadata": {
    "application/vnd.databricks.v1+cell": {
     "cellMetadata": {
      "byteLimit": 2048000,
      "rowLimit": 10000
     },
     "inputWidgets": {},
     "nuid": "ff6adf6e-2ba9-4b50-8c72-05f4756e9f7e",
     "showTitle": false,
     "tableResultSettingsMap": {},
     "title": ""
    }
   },
   "outputs": [],
   "source": [
    "#read divisions_bronze table\n",
    "df_divisionsraw_bronze = spark.read.format(\"delta\").table(\"kusha_solutions.sai.divisions_bronze\")\n",
    "display(df_divisionsraw_bronze)\n",
    "df_divisionsraw_bronze.printSchema()"
   ]
  },
  {
   "cell_type": "code",
   "execution_count": 0,
   "metadata": {
    "application/vnd.databricks.v1+cell": {
     "cellMetadata": {
      "byteLimit": 2048000,
      "rowLimit": 10000
     },
     "inputWidgets": {},
     "nuid": "0f6c7838-1fd2-46f0-b404-dcb387a4309e",
     "showTitle": false,
     "tableResultSettingsMap": {
      "0": {
       "dataGridStateBlob": "{\"version\":1,\"tableState\":{\"columnPinning\":{\"left\":[\"#row_number#\"],\"right\":[]},\"columnSizing\":{},\"columnVisibility\":{}},\"settings\":{\"columns\":{}},\"syncTimestamp\":1752993057428}",
       "filterBlob": null,
       "queryPlanFiltersBlob": null,
       "tableResultIndex": 0
      }
     },
     "title": ""
    }
   },
   "outputs": [],
   "source": [
    "#read participants_bronze table\n",
    "df_participants_bronze = spark.read.format(\"delta\").table(\"kusha_solutions.sai.participant_attributes_bronze\")\n",
    "\n",
    "display(df_participants_bronze)\n",
    "df_participants_bronze.printSchema()"
   ]
  },
  {
   "cell_type": "code",
   "execution_count": 0,
   "metadata": {
    "application/vnd.databricks.v1+cell": {
     "cellMetadata": {
      "byteLimit": 2048000,
      "rowLimit": 10000
     },
     "inputWidgets": {},
     "nuid": "f824839a-1132-4187-bc3e-deaba63f7fa3",
     "showTitle": false,
     "tableResultSettingsMap": {},
     "title": ""
    }
   },
   "outputs": [],
   "source": [
    "from pyspark.sql import functions as F\n",
    "from pyspark.sql.functions import regexp_extract, col, when\n",
    "# select required columns from participants_bronze\n",
    "exploded_df = df_participants_bronze.withColumn(\"participant\", F.explode(\"participantData\"))\n",
    " \n",
    "result = exploded_df.filter(F.col(\"participant.participantAttributes.NTLogin\").isNotNull()).select(\n",
    "    F.col(\"conversationId\"),\n",
    "    \n",
    "    F.col(\"participant.participantAttributes.LegId\").alias(\"LegId\"),\n",
    "    \n",
    "    F.col(\"participant.participantAttributes.NTLogin\").alias(\"NTLogin\")\n",
    ")\n",
    " \n",
    "display(result)\n",
    "\n",
    "# Derive OrdinalLegValue and Leg_Ordinal_Flag\n",
    "\n",
    "# Extract Leg_Ordinal from LegId (assuming LegId format contains ordinal as a suffix, e.g., \"LEG_2\")\n",
    "df_flattened = result.withColumn(\n",
    "    \"Leg_Ordinal\",\n",
    "    regexp_extract(col(\"LegId\"), r\"(\\d+)$\", 1).cast(\"int\")\n",
    ")\n",
    "\n",
    "# IF Leg_Ordinal > 1 then 1 else 0\n",
    "df_flattened = df_flattened.withColumn(\n",
    "    \"Transfer_leg\",\n",
    "    when(col(\"Leg_Ordinal\") > 1, 1).otherwise(0)\n",
    ")\n",
    "\n",
    "# IF LegId not suffixed with INT then \"extract Code\" else Null\n",
    "df_flattened = df_flattened.withColumn(\n",
    "    \"Alternate_Leg_Flag\",\n",
    "    when(~col(\"LegId\").rlike(r\"INT$\"), regexp_extract(col(\"LegId\"), r\"([A-Za-z]+)$\", 1)).otherwise(None)\n",
    ")\n",
    "\n",
    "df_flattened = df_flattened.dropna(subset=[\"LegId\"])\n",
    "df_flattened = df_flattened.dropDuplicates([\"LegId\"])\n",
    "display(df_flattened)\n"
   ]
  },
  {
   "cell_type": "markdown",
   "metadata": {
    "application/vnd.databricks.v1+cell": {
     "cellMetadata": {},
     "inputWidgets": {},
     "nuid": "e9d29734-f684-4090-bf02-7031d3708558",
     "showTitle": false,
     "tableResultSettingsMap": {},
     "title": ""
    }
   },
   "source": [
    "conversations jobs"
   ]
  },
  {
   "cell_type": "code",
   "execution_count": 0,
   "metadata": {
    "application/vnd.databricks.v1+cell": {
     "cellMetadata": {
      "byteLimit": 2048000,
      "rowLimit": 10000
     },
     "inputWidgets": {},
     "nuid": "ed56eca6-db61-4bfd-a3ec-5c2711f94c25",
     "showTitle": false,
     "tableResultSettingsMap": {},
     "title": ""
    }
   },
   "outputs": [],
   "source": [
    "#read conversations_bronze\n",
    "df_conversations_bronze = spark.read.format(\"delta\").table(\"kusha_solutions.sai.conversation_jobs_bronze\")\n",
    "display(df_conversations_bronze)\n",
    "df_conversations_bronze.printSchema()"
   ]
  },
  {
   "cell_type": "code",
   "execution_count": 0,
   "metadata": {
    "application/vnd.databricks.v1+cell": {
     "cellMetadata": {
      "byteLimit": 2048000,
      "rowLimit": 10000
     },
     "inputWidgets": {},
     "nuid": "da5d7728-7d77-4f3a-a0b7-8f8b437c9261",
     "showTitle": false,
     "tableResultSettingsMap": {
      "0": {
       "dataGridStateBlob": "{\"version\":1,\"tableState\":{\"columnPinning\":{\"left\":[\"#row_number#\"],\"right\":[]},\"columnSizing\":{},\"columnVisibility\":{}},\"settings\":{\"columns\":{}},\"syncTimestamp\":1753332331147}",
       "filterBlob": null,
       "queryPlanFiltersBlob": null,
       "tableResultIndex": 0
      }
     },
     "title": ""
    }
   },
   "outputs": [],
   "source": [
    "# Filter only outbound conversations\n",
    "outbound_df = df_conversations_bronze.filter(F.col(\"originatingDirection\") == \"outbound\")\n",
    "outbound_df = outbound_df.dropDuplicates([\"conversationId\"])\n",
    "display(outbound_df)\n",
    "\n"
   ]
  },
  {
   "cell_type": "code",
   "execution_count": 0,
   "metadata": {
    "application/vnd.databricks.v1+cell": {
     "cellMetadata": {
      "byteLimit": 2048000,
      "rowLimit": 10000
     },
     "inputWidgets": {},
     "nuid": "81282ae6-eb44-46a6-9b7e-16b442e18a16",
     "showTitle": false,
     "tableResultSettingsMap": {
      "0": {
       "dataGridStateBlob": "{\"version\":1,\"tableState\":{\"columnPinning\":{\"left\":[\"#row_number#\"],\"right\":[]},\"columnSizing\":{},\"columnVisibility\":{}},\"settings\":{\"columns\":{}},\"syncTimestamp\":1752743910102}",
       "filterBlob": null,
       "queryPlanFiltersBlob": null,
       "tableResultIndex": 0
      }
     },
     "title": ""
    }
   },
   "outputs": [],
   "source": [
    "from pyspark.sql.functions import *\n",
    "#  Extract required columns from conversations_bronze\n",
    "df_selected = outbound_df.withColumn(\n",
    "    \"conversation_Date\",\n",
    "    date_format(col(\"conversationStart\"), \"yyyyMMdd\").cast(\"int\")\n",
    ").withColumn(\n",
    "    \"Conversation_Start_Time\",\n",
    "    col(\"conversationStart\").cast(\"timestamp\")\n",
    ").withColumn(\n",
    "    \"Conversation_End_Time\",\n",
    "    col(\"conversationEnd\").cast(\"timestamp\")\n",
    ").withColumn(\n",
    "    \"Conversation_Date_Key\",\n",
    "    date_format(col(\"conversationStart\"), \"yyyyMMdd\").cast(\"int\")\n",
    ").withColumn(\n",
    "    \"Conversation_Start_Time_Key\",\n",
    "    date_format(col(\"conversationStart\"), \"HHmmss\").cast(\"int\")\n",
    ").withColumn(\n",
    "    \"Conversation_End_Time_Key\",\n",
    "    date_format(col(\"conversationEnd\"), \"HHmmss\").cast(\"int\")\n",
    ")\n",
    "df_selected=df_selected.dropDuplicates([\"conversationId\"])\n",
    "df_selected = df_selected.select(\"conversationId\",\"divisionIds\",\"conversation_Date\",\"Conversation_Start_Time\",\"Conversation_End_Time\",\"Conversation_Date_Key\",\"Conversation_Start_Time_Key\",\"Conversation_End_Time_Key\")\n",
    "display(df_selected)"
   ]
  },
  {
   "cell_type": "code",
   "execution_count": 0,
   "metadata": {
    "application/vnd.databricks.v1+cell": {
     "cellMetadata": {
      "byteLimit": 2048000,
      "rowLimit": 10000
     },
     "inputWidgets": {},
     "nuid": "f0fc2a3e-fbd3-47a2-950c-8be6dd197822",
     "showTitle": false,
     "tableResultSettingsMap": {
      "0": {
       "dataGridStateBlob": "{\"version\":1,\"tableState\":{\"columnPinning\":{\"left\":[\"#row_number#\"],\"right\":[]},\"columnSizing\":{},\"columnVisibility\":{}},\"settings\":{\"columns\":{}},\"syncTimestamp\":1753339593946}",
       "filterBlob": null,
       "queryPlanFiltersBlob": null,
       "tableResultIndex": 0
      }
     },
     "title": ""
    }
   },
   "outputs": [],
   "source": [
    "from pyspark.sql import functions as F\n",
    "\n",
    "# Step 1: Explode participants\n",
    "df_participants = outbound_df.select(\n",
    "    \"conversationId\",\n",
    "    \"conversationStart\",\n",
    "    \"conversationEnd\",\n",
    "    F.explode(\"participants\").alias(\"participant\")\n",
    ")\n",
    "\n",
    "# Step 2: Explode sessions inside each participant\n",
    "df_sessions = df_participants.select(\n",
    "    \"conversationId\",\n",
    "    \"conversationStart\",\n",
    "    \"conversationEnd\",\n",
    "    F.col(\"participant.purpose\").alias(\"participantPurpose\"),\n",
    "    F.explode(\"participant.sessions\").alias(\"session\")\n",
    ")\n",
    "\n",
    "# Step 3: Define metric list\n",
    "metric_list = [\n",
    "    \"tTalk\", \"tHeld\", \"tAcw\", \"tHandle\", \"tMonitoring\", \"tVoicemail\",\n",
    "    \"nTransferred\", \"nBlindTransferred\", \"nConsultTransferred\", \"nCobrowseSessions\", \"nConsult\"\n",
    "]\n",
    "\n",
    "# Step 4: define function to extract metric value\n",
    "def get_metric_value(metric_name):\n",
    "    return F.expr(f\"filter(session.metrics, x -> x.name = '{metric_name}')[0].value\")\n",
    "\n",
    "df_with_metrics = df_sessions\n",
    "\n",
    "for metric in metric_list:\n",
    "    df_with_metrics = df_with_metrics.withColumn(metric, get_metric_value(metric))\n",
    "\n",
    "# Optional: drop original session.metrics column\n",
    "df_silver = df_with_metrics.drop(\"session.metrics\")\n",
    "\n",
    "df_silver = df_silver.fillna(0, subset=metric_list)\n",
    "df_silver = df_silver.withColumnRenamed(\"tTalk\", \"Talk_Time\")\\\n",
    "    .withColumnRenamed(\"tHeld\", \"Held_Time\")\\\n",
    "    .withColumnRenamed(\"tDialing\", \"Dialing_Time\")\\\n",
    "    .withColumnRenamed(\"tContacting\", \"Contacting_Time\")\\\n",
    "    .withColumnRenamed(\"tAcw\", \"ACW_Time\")\\\n",
    "    .withColumnRenamed(\"tHandle\", \"Handle_Time\")\\\n",
    "    .withColumnRenamed(\"tMonitoring\", \"Monitoring_Time\")\\\n",
    "    .withColumnRenamed(\"tVoicemail\", \"Voice_mail_Time\")\\\n",
    "    .withColumnRenamed(\"nTransferred\", \"Transferred\")\\\n",
    "    .withColumnRenamed(\"nBlindTransferred\", \"Transferred_Blind\")\\\n",
    "    .withColumnRenamed(\"nConsultTransferred\", \"Transferred_Consult\")\\\n",
    "    .withColumnRenamed(\"conference\", \"Conference\")\\\n",
    "    .withColumnRenamed(\"nCobrowseSessions\", \"Cobrowse\")\\\n",
    "    .withColumnRenamed(\"nConsult\", \"Consult\")\\\n",
    ".withColumn(\"ACD_OB_Attempt\", F.lit(\"1\"))\n",
    "# Final display or write to Silver layer\n",
    "df_silver = df_silver.drop(col(\"participant\"), col(\"participantPurpose\"), col(\"session\"), col(\"participantData\"),  col(\"conversationStart\"), col(\"conversationEnd\"), col(\"source_file\"), col(\"Conversations_ingestion_timestamp\"))\n",
    "display(df_silver)\n"
   ]
  },
  {
   "cell_type": "code",
   "execution_count": 0,
   "metadata": {
    "application/vnd.databricks.v1+cell": {
     "cellMetadata": {
      "byteLimit": 2048000,
      "rowLimit": 10000
     },
     "inputWidgets": {},
     "nuid": "6e14af4f-cdc1-459e-a2b8-439a86bec1ba",
     "showTitle": false,
     "tableResultSettingsMap": {},
     "title": ""
    }
   },
   "outputs": [],
   "source": [
    "from pyspark.sql.functions import explode, col, row_number, count, max as spark_max, unix_timestamp, current_timestamp\n",
    "from pyspark.sql.window import Window\n",
    "\n",
    "# Explode the participants and sessions\n",
    "df_ani_contacts = outbound_df.select(\n",
    "    col(\"conversationId\"),\n",
    "    explode(\"participants\").alias(\"participant\")\n",
    ").select(\n",
    "    col(\"conversationId\"),\n",
    "    explode(\"participant.sessions\").alias(\"session\")\n",
    ").select(\n",
    "    col(\"conversationId\"),\n",
    "    col(\"session.dnis\").alias(\"dnis\"),\n",
    "    col(\"session.ani\").alias(\"ani\"),\n",
    "    col(\"session.direction\").alias(\"direction\"),\n",
    "    explode(\"session.segments\").alias(\"segment\")\n",
    ").select(\n",
    "    col(\"conversationId\"),\n",
    "    col(\"dnis\"),\n",
    "    col(\"ani\"),\n",
    "    col(\"direction\"),\n",
    "    col(\"segment.segmentStart\").alias(\"startTime\")\n",
    ")\n",
    "\n",
    "# Count of contacts per ANI/DDI (dnis)\n",
    "df_ani_counts = df_ani_contacts.groupBy(\"ani\", \"dnis\",\"conversationId\").agg(\n",
    "    count(\"*\").alias(\"Customer_Contact_Sequence\"),\n",
    "    spark_max(\"startTime\").alias(\"Previous_Contact_DateTime\")\n",
    ")\n",
    "\n",
    "# Rank contacts per ANI/DDI by last contact time\n",
    "window_spec = Window.partitionBy(\"ani\", \"dnis\").orderBy(col(\"Previous_Contact_DateTime\").desc())\n",
    "df_ani_counts = df_ani_counts.withColumn(\"contact_rank\", row_number().over(window_spec))\n",
    "\n",
    "# Calculate time since last contact \n",
    "\n",
    "\n",
    "df_ani_counts = df_ani_counts.withColumn(\n",
    "    \"Delta_Contact_DateTime\",\n",
    "    unix_timestamp(current_timestamp()) - unix_timestamp(to_timestamp(col(\"Previous_Contact_DateTime\"), 'yyyy-MM-dd\\'T\\'HH:mm:ss.SSS\\'Z\\''))\n",
    ")\n",
    "\n",
    "display(df_ani_counts.drop(col(\"contact_rank\")))\n",
    "\n"
   ]
  },
  {
   "cell_type": "code",
   "execution_count": 0,
   "metadata": {
    "application/vnd.databricks.v1+cell": {
     "cellMetadata": {
      "byteLimit": 2048000,
      "rowLimit": 10000
     },
     "inputWidgets": {},
     "nuid": "153d5bcd-1bb8-4c54-be7a-8a20b6e760e1",
     "showTitle": false,
     "tableResultSettingsMap": {},
     "title": ""
    }
   },
   "outputs": [],
   "source": [
    "# Extract conference and disconnect type\n",
    "\n",
    "df_segments = outbound_df.select(\n",
    "    col(\"conversationId\"),\n",
    "    explode(\"participants\").alias(\"participant\")\n",
    ").select(\n",
    "    col(\"conversationId\"),\n",
    "    explode(\"participant.sessions\").alias(\"session\")\n",
    ").select(\n",
    "    col(\"conversationId\"),\n",
    "    explode(\"session.segments\").alias(\"segment\")\n",
    ").select(\n",
    "    col(\"conversationId\"),\n",
    "    col(\"segment.disconnectType\"),\n",
    "    col(\"segment.conference\")\n",
    ")\n",
    "df_segments= df_segments.dropDuplicates([\"conversationId\"])\n",
    "display(df_segments)"
   ]
  },
  {
   "cell_type": "code",
   "execution_count": 0,
   "metadata": {
    "application/vnd.databricks.v1+cell": {
     "cellMetadata": {
      "byteLimit": 2048000,
      "rowLimit": 10000
     },
     "inputWidgets": {},
     "nuid": "e782067e-a2d8-496d-8ab0-72fc38c1fd50",
     "showTitle": false,
     "tableResultSettingsMap": {
      "0": {
       "dataGridStateBlob": "{\"version\":1,\"tableState\":{\"columnPinning\":{\"left\":[\"#row_number#\"],\"right\":[]},\"columnSizing\":{},\"columnVisibility\":{}},\"settings\":{\"columns\":{}},\"syncTimestamp\":1753341132554}",
       "filterBlob": null,
       "queryPlanFiltersBlob": null,
       "tableResultIndex": 0
      }
     },
     "title": ""
    }
   },
   "outputs": [],
   "source": [
    "from pyspark.sql.functions import  col\n",
    "\n",
    "\n",
    "\n",
    "# Extract the first destination address from array\n",
    "df_dest = df_sessions.withColumn(\"destinationAddress\", col(\"session.destinationAddresses\"))\n",
    "df_dest=df_dest.select(\"conversationId\",\"destinationAddress\")\n",
    "df_dest=df_dest.dropDuplicates([\"conversationId\"])\n",
    "display(df_dest)\n",
    "\n",
    "\n"
   ]
  },
  {
   "cell_type": "markdown",
   "metadata": {
    "application/vnd.databricks.v1+cell": {
     "cellMetadata": {},
     "inputWidgets": {},
     "nuid": "de2ec7d5-88e7-4e9c-bbc5-9bde9ef5a20f",
     "showTitle": false,
     "tableResultSettingsMap": {},
     "title": ""
    }
   },
   "source": [
    "timezone"
   ]
  },
  {
   "cell_type": "code",
   "execution_count": 0,
   "metadata": {
    "application/vnd.databricks.v1+cell": {
     "cellMetadata": {
      "byteLimit": 2048000,
      "rowLimit": 10000
     },
     "inputWidgets": {},
     "nuid": "045216ed-dfb7-4aa4-896a-19219383be27",
     "showTitle": false,
     "tableResultSettingsMap": {},
     "title": ""
    }
   },
   "outputs": [],
   "source": [
    "\n",
    "\n",
    "# Select the first value from divisionIds in df_conversations_meta\n",
    "df_conversation_divisions = outbound_df.select(\n",
    "    col(\"conversationId\"),\n",
    "    col(\"divisionIds\")[0].alias(\"divisionId\")\n",
    ")\n",
    "\n",
    "# Join with df_divisionsraw_meta on id\n",
    "df_joined = df_conversation_divisions.join(\n",
    "    df_divisionsraw_bronze,\n",
    "    df_conversation_divisions.divisionId == df_divisionsraw_bronze.id,\n",
    "    \"inner\"\n",
    ")\n",
    "\n",
    "# Select the right 2 characters of the name string\n",
    "df_result = df_joined.select(\n",
    "    col(\"conversationId\"),\n",
    "    substring(col(\"name\"), -2, 2).alias(\"TimeZone\")\n",
    ")\n",
    "df_result=df_result.dropDuplicates([\"conversationId\"])\n",
    "display(df_result)"
   ]
  },
  {
   "cell_type": "code",
   "execution_count": 0,
   "metadata": {
    "application/vnd.databricks.v1+cell": {
     "cellMetadata": {
      "byteLimit": 2048000,
      "rowLimit": 10000
     },
     "inputWidgets": {},
     "nuid": "402dc2ae-d0d4-4b41-a5e3-f384ae309a40",
     "showTitle": false,
     "tableResultSettingsMap": {},
     "title": ""
    }
   },
   "outputs": [],
   "source": [
    "# 1. Join df_result with df_segments on conversationId\n",
    "df_join_1 = df_result.join(df_segments, on=\"conversationId\", how=\"left\")\n",
    "\n",
    "# 2. Join the result with df_filtered_metrics on conversationId\n",
    "df_join_2 = df_join_1.join(df_silver, on=\"conversationId\", how=\"left\")\n",
    "\n",
    "# 3. Join the result with df_selected (contact history) on conversationId\n",
    "df_join_3 = df_join_2.join(df_selected, on=\"conversationId\", how=\"left\")\n",
    "# 4. Join the result with df_ani_counts on conversationId\n",
    "df_join_4 = df_join_3.join(df_ani_counts, on=\"conversationId\", how=\"left\")\n",
    "# 5. Join the result with df_dest on conversationId\n",
    "df_join_5 = df_join_4.join(df_dest, on=\"conversationId\", how=\"left\")\n",
    "\n",
    "# Check schema\n",
    "\n",
    "df_join_5.printSchema()\n"
   ]
  },
  {
   "cell_type": "code",
   "execution_count": 0,
   "metadata": {
    "application/vnd.databricks.v1+cell": {
     "cellMetadata": {
      "byteLimit": 2048000,
      "rowLimit": 10000
     },
     "inputWidgets": {},
     "nuid": "64297ea2-b703-4b46-b533-422249537bb7",
     "showTitle": false,
     "tableResultSettingsMap": {
      "0": {
       "dataGridStateBlob": "{\"version\":1,\"tableState\":{\"columnPinning\":{\"left\":[\"#row_number#\"],\"right\":[]},\"columnSizing\":{},\"columnVisibility\":{}},\"settings\":{\"columns\":{}},\"syncTimestamp\":1752999608696}",
       "filterBlob": "{\"version\":1,\"filterGroups\":[],\"syncTimestamp\":1753025278724}",
       "queryPlanFiltersBlob": "[]",
       "tableResultIndex": 0
      }
     },
     "title": ""
    }
   },
   "outputs": [],
   "source": [
    "# drop duplicates and display the data\n",
    "df_final=df_join_5.drop(col(\"contact_rank\"),col(\"ani\"),col(\"divisionIds\")).dropDuplicates([\"conversationId\"])\n",
    "df_final.display(truncate=False)\n",
    "df_final.printSchema()"
   ]
  },
  {
   "cell_type": "code",
   "execution_count": 0,
   "metadata": {
    "application/vnd.databricks.v1+cell": {
     "cellMetadata": {
      "byteLimit": 2048000,
      "rowLimit": 10000
     },
     "collapsed": true,
     "inputWidgets": {},
     "nuid": "1573e464-2b9c-422f-80f1-4ab54fa48208",
     "showTitle": false,
     "tableResultSettingsMap": {
      "0": {
       "dataGridStateBlob": "{\"version\":1,\"tableState\":{\"columnPinning\":{\"left\":[\"#row_number#\"],\"right\":[]},\"columnSizing\":{},\"columnVisibility\":{}},\"settings\":{\"columns\":{}},\"syncTimestamp\":1753368654255}",
       "filterBlob": null,
       "queryPlanFiltersBlob": null,
       "tableResultIndex": 0
      }
     },
     "title": ""
    }
   },
   "outputs": [],
   "source": [
    "#try to join conversation jobs and participant attributes\n",
    "df_test=df_final.join(df_flattened ,on=\"conversationId\",how=\"outer\")\n",
    "df_test.display(truncate=False)\n",
    "df_test.printSchema()"
   ]
  },
  {
   "cell_type": "code",
   "execution_count": 0,
   "metadata": {
    "application/vnd.databricks.v1+cell": {
     "cellMetadata": {
      "byteLimit": 2048000,
      "rowLimit": 10000
     },
     "inputWidgets": {},
     "nuid": "886d8261-ae0a-4f7b-bf80-7f8c8007cc96",
     "showTitle": false,
     "tableResultSettingsMap": {},
     "title": ""
    }
   },
   "outputs": [],
   "source": [
    "# write the data to delta table\n",
    "df_flattened.write.mode(\"overwrite\").saveAsTable(\"kusha_solutions.sai.participant_attributes_silver\")\n",
    "df_final.write.mode(\"overwrite\").saveAsTable(\"kusha_solutions.sai.conversation_jobs_silver\")"
   ]
  }
 ],
 "metadata": {
  "application/vnd.databricks.v1+notebook": {
   "computePreferences": null,
   "dashboards": [],
   "environmentMetadata": {
    "base_environment": "",
    "environment_version": "2"
   },
   "inputWidgetPreferences": null,
   "language": "python",
   "notebookMetadata": {
    "mostRecentlyExecutedCommandWithImplicitDF": {
     "commandId": 4699402449870295,
     "dataframes": [
      "_sqldf"
     ]
    },
    "pythonIndentUnit": 4
   },
   "notebookName": "Sliver",
   "widgets": {}
  },
  "language_info": {
   "name": "python"
  }
 },
 "nbformat": 4,
 "nbformat_minor": 0
}
