{
 "cells": [
  {
   "cell_type": "markdown",
   "metadata": {
    "application/vnd.databricks.v1+cell": {
     "cellMetadata": {},
     "inputWidgets": {},
     "nuid": "89522cc1-52a3-4341-8f53-2cbd853308c7",
     "showTitle": false,
     "tableResultSettingsMap": {},
     "title": ""
    }
   },
   "source": [
    "# **SCD type 2**"
   ]
  },
  {
   "cell_type": "markdown",
   "metadata": {
    "application/vnd.databricks.v1+cell": {
     "cellMetadata": {},
     "inputWidgets": {},
     "nuid": "d2970d8b-8bbc-4072-bafe-910f1c36972e",
     "showTitle": false,
     "tableResultSettingsMap": {},
     "title": ""
    }
   },
   "source": [
    "scd type2 on participant_attributes"
   ]
  },
  {
   "cell_type": "code",
   "execution_count": 0,
   "metadata": {
    "application/vnd.databricks.v1+cell": {
     "cellMetadata": {
      "byteLimit": 2048000,
      "implicitDf": true,
      "rowLimit": 10000
     },
     "inputWidgets": {},
     "nuid": "acfa11bd-9214-4277-976b-6736c103b8e0",
     "showTitle": false,
     "tableResultSettingsMap": {},
     "title": ""
    }
   },
   "outputs": [],
   "source": [
    "%sql\n",
    "--Create a table to implementation SCD Type 2 for Participant Attributes Silver Layer\n",
    "\n",
    "CREATE OR REPLACE TABLE kusha_solutions.sai.participant_attributes_silver_scd2 (\n",
    "  conversationId STRING,\n",
    "  LegId STRING,\n",
    "  NTLogin STRING,\n",
    "  Leg_Ordinal INT,\n",
    "  Transfer_leg INT,\n",
    "  Alternate_Leg_Flag STRING,\n",
    "  start_time TIMESTAMP,\n",
    "  end_time TIMESTAMP,\n",
    "  is_current BOOLEAN\n",
    ")\n",
    "USING DELTA;\n"
   ]
  },
  {
   "cell_type": "code",
   "execution_count": 0,
   "metadata": {
    "application/vnd.databricks.v1+cell": {
     "cellMetadata": {
      "byteLimit": 2048000,
      "implicitDf": true,
      "rowLimit": 10000
     },
     "inputWidgets": {},
     "nuid": "11484691-ad0f-4273-b2e0-0b5eb63aacf7",
     "showTitle": false,
     "tableResultSettingsMap": {},
     "title": ""
    }
   },
   "outputs": [],
   "source": [
    "%sql\n",
    "--Initial load into SCD Type 2 table from Participant Attributes Silver Layer\n",
    "INSERT INTO kusha_solutions.sai.participant_attributes_silver_scd2\n",
    "SELECT \n",
    "  conversationId,\n",
    "  LegId,\n",
    "  NTLogin,\n",
    "  Leg_Ordinal,\n",
    "  Transfer_leg,\n",
    "  Alternate_Leg_Flag,\n",
    "  current_timestamp() AS start_time,\n",
    "  NULL AS end_time,\n",
    "  true AS is_current\n",
    "FROM kusha_solutions.sai.participant_attributes_silver;\n"
   ]
  },
  {
   "cell_type": "code",
   "execution_count": 0,
   "metadata": {
    "application/vnd.databricks.v1+cell": {
     "cellMetadata": {
      "byteLimit": 2048000,
      "implicitDf": true,
      "rowLimit": 10000
     },
     "inputWidgets": {},
     "nuid": "ac2766d0-530b-4a41-9b24-c8eca5bc35d6",
     "showTitle": false,
     "tableResultSettingsMap": {},
     "title": ""
    }
   },
   "outputs": [],
   "source": [
    "%sql\n",
    "-- create a temp view for the updates\n",
    "CREATE OR REPLACE TEMP VIEW participant_attributes_stage AS\n",
    "SELECT * FROM VALUES\n",
    "  (\"0a57ee63-a99a-4476-995f-edbd9a3fb6c9\", \"0a57ee63-a99a-4476-995f-edbd9a3fb6c9-2\", \"GRANTAM\", 2, 1, NULL),  -- same as before (no change)\n",
    "  (\"0a12fccd-06a0-4e52-8c64-98578139eea5\", \"0a12fccd-06a0-4e52-8c64-98578139eea5-1\", \"CXSMALINM1\", 1, 1, NULL), -- Transfer_leg changed from 0 -> 1\n",
    "  (\"0a1ff49c-dc88-43f6-af60-0679583a2a77\", \"0a1ff49c-dc88-43f6-af60-0679583a2a77-1\", \"POWELLS2\", 1, 0, NULL)   -- NTLogin changed\n",
    "AS updates (\n",
    "  conversationId, LegId, NTLogin, Leg_Ordinal, Transfer_leg, Alternate_Leg_Flag\n",
    ");\n"
   ]
  },
  {
   "cell_type": "code",
   "execution_count": 0,
   "metadata": {
    "application/vnd.databricks.v1+cell": {
     "cellMetadata": {
      "byteLimit": 2048000,
      "implicitDf": true,
      "rowLimit": 10000
     },
     "inputWidgets": {},
     "nuid": "1afd7f51-1b4c-42ab-8d68-84d5d7e81672",
     "showTitle": false,
     "tableResultSettingsMap": {},
     "title": ""
    }
   },
   "outputs": [],
   "source": [
    "%sql\n",
    "--  Expire existing rows where data changed\n",
    "MERGE INTO kusha_solutions.sai.participant_attributes_silver_scd2 AS tgt\n",
    "USING participant_attributes_stage AS src\n",
    "ON tgt.LegId = src.LegId AND tgt.is_current = true\n",
    "WHEN MATCHED AND (\n",
    "    tgt.NTLogin IS DISTINCT FROM src.NTLogin OR\n",
    "    tgt.Leg_Ordinal IS DISTINCT FROM src.Leg_Ordinal OR\n",
    "    tgt.Transfer_leg IS DISTINCT FROM src.Transfer_leg OR\n",
    "    tgt.Alternate_Leg_Flag IS DISTINCT FROM src.Alternate_Leg_Flag\n",
    ")\n",
    "THEN UPDATE SET\n",
    "  tgt.end_time = current_timestamp(),\n",
    "  tgt.is_current = false;\n",
    "\n",
    "--  Insert new rows for changes or new records\n",
    "INSERT INTO kusha_solutions.sai.participant_attributes_silver_scd2\n",
    "SELECT\n",
    "  src.conversationId,\n",
    "  src.LegId,\n",
    "  src.NTLogin,\n",
    "  src.Leg_Ordinal,\n",
    "  src.Transfer_leg,\n",
    "  src.Alternate_Leg_Flag,\n",
    "  current_timestamp() AS start_time,\n",
    "  NULL AS end_time,\n",
    "  true AS is_current\n",
    "FROM participant_attributes_stage AS src\n",
    "LEFT JOIN kusha_solutions.sai.participant_attributes_silver_scd2 AS tgt\n",
    "  ON src.LegId = tgt.LegId AND tgt.is_current = true\n",
    "WHERE\n",
    "  tgt.LegId IS NULL OR (\n",
    "    tgt.NTLogin IS DISTINCT FROM src.NTLogin OR\n",
    "    tgt.Leg_Ordinal IS DISTINCT FROM src.Leg_Ordinal OR\n",
    "    tgt.Transfer_leg IS DISTINCT FROM src.Transfer_leg OR\n",
    "    tgt.Alternate_Leg_Flag IS DISTINCT FROM src.Alternate_Leg_Flag\n",
    ");\n"
   ]
  },
  {
   "cell_type": "code",
   "execution_count": 0,
   "metadata": {
    "application/vnd.databricks.v1+cell": {
     "cellMetadata": {
      "byteLimit": 2048000,
      "implicitDf": true,
      "rowLimit": 10000
     },
     "inputWidgets": {},
     "nuid": "5ab42b0c-20a5-4d35-89f5-8ad4e953bf4d",
     "showTitle": false,
     "tableResultSettingsMap": {},
     "title": ""
    }
   },
   "outputs": [],
   "source": [
    "%sql\n",
    "-- Check the results\n",
    "SELECT * \n",
    "FROM kusha_solutions.sai.participant_attributes_silver_scd2\n",
    "WHERE LegId IN (\n",
    "  \"0a57ee63-a99a-4476-995f-edbd9a3fb6c9-2\",\n",
    "  \"0a12fccd-06a0-4e52-8c64-98578139eea5-1\",\n",
    "  \"0a1ff49c-dc88-43f6-af60-0679583a2a77-1\"\n",
    ")\n",
    "ORDER BY LegId, start_time;\n"
   ]
  },
  {
   "cell_type": "markdown",
   "metadata": {
    "application/vnd.databricks.v1+cell": {
     "cellMetadata": {},
     "inputWidgets": {},
     "nuid": "2c9932ff-ae92-4b4f-be76-c5a60a34b91d",
     "showTitle": false,
     "tableResultSettingsMap": {},
     "title": ""
    }
   },
   "source": [
    "scd type 2 on conversation_jobs"
   ]
  },
  {
   "cell_type": "code",
   "execution_count": 0,
   "metadata": {
    "application/vnd.databricks.v1+cell": {
     "cellMetadata": {
      "byteLimit": 2048000,
      "implicitDf": true,
      "rowLimit": 10000
     },
     "inputWidgets": {},
     "nuid": "b412caf7-898a-44e5-b731-0631d4cc078c",
     "showTitle": false,
     "tableResultSettingsMap": {},
     "title": ""
    }
   },
   "outputs": [],
   "source": [
    "%sql\n",
    "--Create a table to implementation SCD Type 2 for conversations Silver Layer\n",
    "CREATE OR REPLACE TABLE kusha_solutions.sai.conversation_summary_scd2 (\n",
    "  conversationId STRING,\n",
    "  TimeZone STRING,\n",
    "  disconnectType STRING,\n",
    "  conference BOOLEAN,\n",
    "  Talk_Time INT,\n",
    "  Held_Time INT,\n",
    "  ACW_Time INT,\n",
    "  Handle_Time INT,\n",
    "  Monitoring_Time INT,\n",
    "  Voice_mail_Time INT,\n",
    "  Transferred INT,\n",
    "  Transferred_Blind INT,\n",
    "  Transferred_Consult INT,\n",
    "  Cobrowse INT,\n",
    "  Consult INT,\n",
    "  ACD_OB_Attempt INT,\n",
    "  conversation_Date INT,\n",
    "  Conversation_Start_Time TIMESTAMP,\n",
    "  Conversation_End_Time TIMESTAMP,\n",
    "  Conversation_Date_Key INT,\n",
    "  Conversation_Start_Time_Key INT,\n",
    "  Conversation_End_Time_Key INT,\n",
    "  dnis STRING,\n",
    "  Customer_Contact_Sequence INT,\n",
    "  Previous_Contact_DateTime TIMESTAMP,\n",
    "  Delta_Contact_DateTime STRING,\n",
    "  destinationAddress STRING,\n",
    "  -- SCD columns\n",
    "  start_time TIMESTAMP,\n",
    "  end_time TIMESTAMP,\n",
    "  is_current BOOLEAN\n",
    ")\n",
    "USING DELTA;\n"
   ]
  },
  {
   "cell_type": "code",
   "execution_count": 0,
   "metadata": {
    "application/vnd.databricks.v1+cell": {
     "cellMetadata": {
      "byteLimit": 2048000,
      "implicitDf": true,
      "rowLimit": 10000
     },
     "inputWidgets": {},
     "nuid": "033db60d-9d0e-4359-ab3b-81ce7170b749",
     "showTitle": false,
     "tableResultSettingsMap": {},
     "title": ""
    }
   },
   "outputs": [],
   "source": [
    "%sql\n",
    "--Initial load into SCD Type 2 table from conversation Silver Layer\n",
    "INSERT INTO kusha_solutions.sai.conversation_summary_scd2\n",
    "SELECT \n",
    "  conversationId,\n",
    "  TimeZone,\n",
    "  disconnectType,\n",
    "  conference,\n",
    "  Talk_Time,\n",
    "  Held_Time,\n",
    "  ACW_Time,\n",
    "  Handle_Time,\n",
    "  Monitoring_Time,\n",
    "  Voice_mail_Time,\n",
    "  Transferred,\n",
    "  Transferred_Blind,\n",
    "  Transferred_Consult,\n",
    "  Cobrowse,\n",
    "  Consult,\n",
    "  ACD_OB_Attempt,\n",
    "  conversation_Date,\n",
    "  Conversation_Start_Time,\n",
    "  Conversation_End_Time,\n",
    "  Conversation_Date_Key,\n",
    "  Conversation_Start_Time_Key,\n",
    "  Conversation_End_Time_Key,\n",
    "  dnis,\n",
    "  Customer_Contact_Sequence,\n",
    "  Previous_Contact_DateTime,\n",
    "  Delta_Contact_DateTime,\n",
    "  destinationAddress,\n",
    "  current_timestamp() AS start_time,\n",
    "  NULL AS end_time,\n",
    "  TRUE AS is_current\n",
    "FROM kusha_solutions.sai.conversation_jobs_silver;\n"
   ]
  },
  {
   "cell_type": "code",
   "execution_count": 0,
   "metadata": {
    "application/vnd.databricks.v1+cell": {
     "cellMetadata": {
      "byteLimit": 2048000,
      "implicitDf": true,
      "rowLimit": 10000
     },
     "inputWidgets": {},
     "nuid": "f8f072a5-8dfa-495c-9eb4-27c86d0bcd0a",
     "showTitle": false,
     "tableResultSettingsMap": {},
     "title": ""
    }
   },
   "outputs": [],
   "source": [
    "%sql\n",
    "-- create a temp view for testing\n",
    "CREATE OR REPLACE TEMP VIEW conversation_stage AS\n",
    "SELECT * FROM VALUES\n",
    "  (\"00d2cd83-293d-43b2-82c8-51e8354e97b6\", \"UK\", NULL, false, 30, 0, 0, 30, 0, 0, 0, 0, 0, 0, 0, 1, 20230921, \n",
    "   timestamp(\"2023-09-21T09:08:23.130\"), timestamp(\"2023-09-21T09:08:42.770\"), 20230921, 90823, 90842,\n",
    "   \"tel:+447552741002\", 5, timestamp(\"2023-09-21T09:08:27.863\"), \"58081199\", \"tel:+447552741999\"), -- changed Talk_Time, destinationAddress\n",
    "\n",
    "  (\"00ba27af-5804-4b79-87e7-da7543da8fda\", \"ES\", NULL, false, 0, 0, 0, 0, 0, 0, 0, 0, 0, 0, 0, 1, 20230921, \n",
    "   timestamp(\"2023-09-21T10:41:01.018\"), timestamp(\"2023-09-21T10:41:07.097\"), 20230921, 104101, 104107,\n",
    "   \"tel:+34603871075\", 2, timestamp(\"2023-09-21T10:41:07.097\"), \"58075639\", null) -- no change\n",
    "AS updates (\n",
    "  conversationId, TimeZone, disconnectType, conference, Talk_Time, Held_Time, ACW_Time, Handle_Time,\n",
    "  Monitoring_Time, Voice_mail_Time, Transferred, Transferred_Blind, Transferred_Consult, Cobrowse,\n",
    "  Consult, ACD_OB_Attempt, conversation_Date, Conversation_Start_Time, Conversation_End_Time,\n",
    "  Conversation_Date_Key, Conversation_Start_Time_Key, Conversation_End_Time_Key,\n",
    "  dnis, Customer_Contact_Sequence, Previous_Contact_DateTime, Delta_Contact_DateTime, destinationAddress\n",
    ");\n"
   ]
  },
  {
   "cell_type": "code",
   "execution_count": 0,
   "metadata": {
    "application/vnd.databricks.v1+cell": {
     "cellMetadata": {
      "byteLimit": 2048000,
      "implicitDf": true,
      "rowLimit": 10000
     },
     "inputWidgets": {},
     "nuid": "fd0574b2-836a-48e8-b196-3a1663a34e4f",
     "showTitle": false,
     "tableResultSettingsMap": {},
     "title": ""
    }
   },
   "outputs": [],
   "source": [
    "%sql\n",
    "--  Expire changed records\n",
    "MERGE INTO kusha_solutions.sai.conversation_summary_scd2 AS tgt\n",
    "USING conversation_stage AS src\n",
    "ON tgt.conversationId = src.conversationId AND tgt.is_current = true\n",
    "WHEN MATCHED AND (\n",
    "  tgt.Talk_Time IS DISTINCT FROM src.Talk_Time OR\n",
    "  tgt.Handle_Time IS DISTINCT FROM src.Handle_Time OR\n",
    "  tgt.destinationAddress IS DISTINCT FROM src.destinationAddress\n",
    ")\n",
    "THEN UPDATE SET\n",
    "  tgt.end_time = current_timestamp(),\n",
    "  tgt.is_current = false;\n",
    "\n",
    "--  Insert new changed records\n",
    "INSERT INTO kusha_solutions.sai.conversation_summary_scd2\n",
    "SELECT \n",
    "  src.*, current_timestamp() AS start_time, NULL AS end_time, true AS is_current\n",
    "FROM conversation_stage AS src\n",
    "LEFT JOIN kusha_solutions.sai.conversation_summary_scd2 AS tgt\n",
    "  ON src.conversationId = tgt.conversationId AND tgt.is_current = true\n",
    "WHERE\n",
    "  tgt.conversationId IS NULL OR (\n",
    "    tgt.Talk_Time IS DISTINCT FROM src.Talk_Time OR\n",
    "    tgt.Handle_Time IS DISTINCT FROM src.Handle_Time OR\n",
    "    tgt.destinationAddress IS DISTINCT FROM src.destinationAddress\n",
    ");\n"
   ]
  },
  {
   "cell_type": "code",
   "execution_count": 0,
   "metadata": {
    "application/vnd.databricks.v1+cell": {
     "cellMetadata": {
      "byteLimit": 2048000,
      "implicitDf": true,
      "rowLimit": 10000
     },
     "inputWidgets": {},
     "nuid": "6e0a6590-7780-4b72-917b-7849a1424d3a",
     "showTitle": false,
     "tableResultSettingsMap": {},
     "title": ""
    }
   },
   "outputs": [],
   "source": [
    "%sql\n",
    "-- check the result\n",
    "SELECT * \n",
    "FROM kusha_solutions.sai.conversation_summary_scd2\n",
    "WHERE conversationId = '00d2cd83-293d-43b2-82c8-51e8354e97b6'\n",
    "ORDER BY start_time;\n"
   ]
  },
  {
   "cell_type": "markdown",
   "metadata": {
    "application/vnd.databricks.v1+cell": {
     "cellMetadata": {},
     "inputWidgets": {},
     "nuid": "112fd124-688c-492c-9bd7-cc19a167f24a",
     "showTitle": false,
     "tableResultSettingsMap": {},
     "title": ""
    }
   },
   "source": [
    "test"
   ]
  }
 ],
 "metadata": {
  "application/vnd.databricks.v1+notebook": {
   "computePreferences": null,
   "dashboards": [],
   "environmentMetadata": {
    "base_environment": "",
    "environment_version": "2"
   },
   "inputWidgetPreferences": null,
   "language": "python",
   "notebookMetadata": {
    "mostRecentlyExecutedCommandWithImplicitDF": {
     "commandId": 5739590891681918,
     "dataframes": [
      "_sqldf"
     ]
    },
    "pythonIndentUnit": 4
   },
   "notebookName": "scdtype2",
   "widgets": {}
  },
  "language_info": {
   "name": "python"
  }
 },
 "nbformat": 4,
 "nbformat_minor": 0
}
