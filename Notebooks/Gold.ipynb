{
 "cells": [
  {
   "cell_type": "code",
   "execution_count": 0,
   "metadata": {
    "application/vnd.databricks.v1+cell": {
     "cellMetadata": {
      "byteLimit": 2048000,
      "implicitDf": true,
      "rowLimit": 10000
     },
     "inputWidgets": {},
     "nuid": "13f21f18-0e57-4927-81bf-19141e8c3c30",
     "showTitle": false,
     "tableResultSettingsMap": {
      "0": {
       "dataGridStateBlob": "{\"version\":1,\"tableState\":{\"columnPinning\":{\"left\":[\"#row_number#\"],\"right\":[]},\"columnSizing\":{},\"columnVisibility\":{}},\"settings\":{\"columns\":{}},\"syncTimestamp\":1755534529692}",
       "filterBlob": null,
       "queryPlanFiltersBlob": null,
       "tableResultIndex": 0
      }
     },
     "title": ""
    }
   },
   "outputs": [],
   "source": [
    "%sql\n",
    "SELECT \n",
    "  NTLogin, \n",
    "  COUNT(DISTINCT LegId) AS active_leg_count\n",
    "FROM kusha_solutions.sai.participant_attributes_silver_scd2\n",
    "WHERE is_current = true\n",
    "GROUP BY NTLogin;\n"
   ]
  },
  {
   "cell_type": "code",
   "execution_count": 0,
   "metadata": {
    "application/vnd.databricks.v1+cell": {
     "cellMetadata": {
      "byteLimit": 2048000,
      "implicitDf": true,
      "rowLimit": 10000
     },
     "inputWidgets": {},
     "nuid": "aaa9eb08-9a5b-4772-8751-9e21c8c70a36",
     "showTitle": false,
     "tableResultSettingsMap": {},
     "title": ""
    }
   },
   "outputs": [],
   "source": [
    "df_test1=spark.table(\"kusha_solutions.sai.conversation_summary_scd2\")\n",
    "display(df_test1)\n"
   ]
  },
  {
   "cell_type": "code",
   "execution_count": 0,
   "metadata": {
    "application/vnd.databricks.v1+cell": {
     "cellMetadata": {
      "byteLimit": 2048000,
      "rowLimit": 10000
     },
     "inputWidgets": {},
     "nuid": "4e6946f2-f2a9-4472-8ebe-cfb2fe75ed6d",
     "showTitle": false,
     "tableResultSettingsMap": {},
     "title": ""
    }
   },
   "outputs": [],
   "source": [
    "from pyspark.sql import functions as F\n",
    "df_gold_daily = (\n",
    "    df_test1\n",
    "    .groupBy(\"conversation_Date\", \"TimeZone\")\n",
    "    .agg(\n",
    "        F.countDistinct(\"conversationId\").alias(\"Total_Calls\"),\n",
    "        F.sum(\"Talk_Time\").alias(\"Total_Talk_Time\"),\n",
    "        F.sum(\"Handle_Time\").alias(\"Total_Handle_Time\"),\n",
    "        (F.sum(\"Talk_Time\")/F.countDistinct(\"conversationId\")).alias(\"Avg_Talk_Time\"),\n",
    "        (F.sum(\"Handle_Time\")/F.countDistinct(\"conversationId\")).alias(\"Avg_Handle_Time\")\n",
    "    )\n",
    ")\n",
    "display(df_gold_daily)"
   ]
  },
  {
   "cell_type": "markdown",
   "metadata": {
    "application/vnd.databricks.v1+cell": {
     "cellMetadata": {},
     "inputWidgets": {},
     "nuid": "256a9fb3-7767-4b81-b6d1-c81fb6b8299b",
     "showTitle": false,
     "tableResultSettingsMap": {},
     "title": ""
    }
   },
   "source": [
    "# **test**"
   ]
  }
 ],
 "metadata": {
  "application/vnd.databricks.v1+notebook": {
   "computePreferences": {
    "hardware": {
     "accelerator": null,
     "gpuPoolId": null,
     "memory": null
    }
   },
   "dashboards": [],
   "environmentMetadata": {
    "base_environment": "",
    "environment_version": "2"
   },
   "inputWidgetPreferences": null,
   "language": "python",
   "notebookMetadata": {
    "mostRecentlyExecutedCommandWithImplicitDF": {
     "commandId": -1,
     "dataframes": [
      "_sqldf"
     ]
    },
    "pythonIndentUnit": 4
   },
   "notebookName": "Gold",
   "widgets": {}
  },
  "language_info": {
   "name": "python"
  }
 },
 "nbformat": 4,
 "nbformat_minor": 0
}
